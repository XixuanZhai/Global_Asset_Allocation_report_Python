{
 "cells": [
  {
   "cell_type": "markdown",
   "id": "f23426d4",
   "metadata": {},
   "source": [
    "# Equity"
   ]
  },
  {
   "cell_type": "markdown",
   "id": "c010fb64",
   "metadata": {},
   "source": [
    "1.\t全球市场（即market return）：MSCI All Country World Index (ACWI) 反映全球市场(sample1里面是MSCI World Index 只有23个developed )，覆盖 49个developed+developing国家。\n",
    "2.\t不同国家的equity数据：MSCI Country Indices\n",
    "\n",
    "假期数据问题：\n",
    "\n",
    "如果某月的最后一个交易日是节假日，重新采样会选择最近的交易日。\n",
    "缺失数据处理：\n",
    "\n",
    "可能某些资产存在缺失值，使用 dropna() 清理数据，或者用 fillna() 填充。\n",
    "更改时间间隔：\n",
    "\n",
    "M 表示月度数据，Q 表示季度数据。\n",
    "如果需要更细或更宽的间隔，可以替换为 W (周)、A (年度) 等。\n"
   ]
  },
  {
   "cell_type": "code",
   "execution_count": 1,
   "id": "4ec4fe6e",
   "metadata": {},
   "outputs": [
    {
     "name": "stderr",
     "output_type": "stream",
     "text": [
      "\r",
      "[*********************100%***********************]  1 of 1 completed"
     ]
    },
    {
     "name": "stdout",
     "output_type": "stream",
     "text": [
      "Date\n",
      "2014-01-02     45.872360\n",
      "2014-01-03     45.848133\n",
      "2014-01-06     45.702755\n",
      "2014-01-07     45.945042\n",
      "2014-01-08     45.928883\n",
      "                 ...    \n",
      "2024-10-24    119.029999\n",
      "2024-10-25    118.820000\n",
      "2024-10-28    119.440002\n",
      "2024-10-29    119.370003\n",
      "2024-10-30    118.839996\n",
      "Name: Adj Close, Length: 2726, dtype: float64\n"
     ]
    },
    {
     "name": "stderr",
     "output_type": "stream",
     "text": [
      "\n"
     ]
    }
   ],
   "source": [
    "import yfinance as yf\n",
    "import pandas as pd\n",
    "\n",
    "# 定义目标 ETF 或指数\n",
    "ticker = \"ACWI\"  # MSCI All Country World Index 的 ETF\n",
    "start_date = \"2014-01-01\"\n",
    "end_date = \"2024-10-31\"\n",
    "\n",
    "# 下载每日数据\n",
    "Equity_ACWI = yf.download(ticker, start=start_date, end=end_date)\n",
    "Equity_ACWI=Equity_ACWI['Adj Close']\n",
    "print(Equity_ACWI)"
   ]
  },
  {
   "cell_type": "code",
   "execution_count": 3,
   "id": "4da859a2",
   "metadata": {},
   "outputs": [],
   "source": [
    "#Market的日回报率\n",
    "Equity_dreturns_ACWI = Equity_ACWI.pct_change().dropna()\n",
    "\n",
    "# 按月重新采样\n",
    "Equity_monthly_ACWI = Equity_ACWI.resample('M').last()  # 获取每月最后一个交易日的收盘价\n",
    "\n",
    "# 按季度重新采样\n",
    "Equity_quarterly_ACWI = Equity_ACWI.resample('Q').last()  # 获取每季度最后一个交易日的收盘价\n",
    "\n",
    "# 计算月度回报率\n",
    "Equity_mreturns_ACWI = Equity_monthly_ACWI.pct_change().dropna()  # 按月的百分比变化\n",
    "\n",
    "# 计算季度回报率\n",
    "Equity_qreturns_ACWI = Equity_quarterly_ACWI.pct_change().dropna()  # 按季度的百分比变化\n",
    "\n",
    "\n"
   ]
  },
  {
   "cell_type": "code",
   "execution_count": 4,
   "id": "c2d2d653",
   "metadata": {},
   "outputs": [
    {
     "name": "stdout",
     "output_type": "stream",
     "text": [
      "Fetching data for USA (EUSA)...\n"
     ]
    },
    {
     "name": "stderr",
     "output_type": "stream",
     "text": [
      "[*********************100%***********************]  1 of 1 completed\n"
     ]
    },
    {
     "name": "stdout",
     "output_type": "stream",
     "text": [
      "Fetching data for Canada (EWC)...\n"
     ]
    },
    {
     "name": "stderr",
     "output_type": "stream",
     "text": [
      "[*********************100%***********************]  1 of 1 completed\n"
     ]
    },
    {
     "name": "stdout",
     "output_type": "stream",
     "text": [
      "Fetching data for Germany (EWG)...\n"
     ]
    },
    {
     "name": "stderr",
     "output_type": "stream",
     "text": [
      "[*********************100%***********************]  1 of 1 completed\n"
     ]
    },
    {
     "name": "stdout",
     "output_type": "stream",
     "text": [
      "Fetching data for Japan (EWJ)...\n"
     ]
    },
    {
     "name": "stderr",
     "output_type": "stream",
     "text": [
      "[*********************100%***********************]  1 of 1 completed\n"
     ]
    },
    {
     "name": "stdout",
     "output_type": "stream",
     "text": [
      "Fetching data for UK (EWU)...\n"
     ]
    },
    {
     "name": "stderr",
     "output_type": "stream",
     "text": [
      "[*********************100%***********************]  1 of 1 completed\n"
     ]
    },
    {
     "name": "stdout",
     "output_type": "stream",
     "text": [
      "Fetching data for France (EWQ)...\n"
     ]
    },
    {
     "name": "stderr",
     "output_type": "stream",
     "text": [
      "[*********************100%***********************]  1 of 1 completed\n"
     ]
    },
    {
     "name": "stdout",
     "output_type": "stream",
     "text": [
      "Fetching data for Italy (EWI)...\n"
     ]
    },
    {
     "name": "stderr",
     "output_type": "stream",
     "text": [
      "[*********************100%***********************]  1 of 1 completed\n"
     ]
    },
    {
     "name": "stdout",
     "output_type": "stream",
     "text": [
      "Fetching data for Australia (EWA)...\n"
     ]
    },
    {
     "name": "stderr",
     "output_type": "stream",
     "text": [
      "[*********************100%***********************]  1 of 1 completed\n"
     ]
    },
    {
     "name": "stdout",
     "output_type": "stream",
     "text": [
      "Fetching data for China (MCHI)...\n"
     ]
    },
    {
     "name": "stderr",
     "output_type": "stream",
     "text": [
      "[*********************100%***********************]  1 of 1 completed\n"
     ]
    },
    {
     "name": "stdout",
     "output_type": "stream",
     "text": [
      "Fetching data for India (INDA)...\n"
     ]
    },
    {
     "name": "stderr",
     "output_type": "stream",
     "text": [
      "[*********************100%***********************]  1 of 1 completed\n"
     ]
    },
    {
     "name": "stdout",
     "output_type": "stream",
     "text": [
      "Fetching data for Brazil (EWZ)...\n"
     ]
    },
    {
     "name": "stderr",
     "output_type": "stream",
     "text": [
      "[*********************100%***********************]  1 of 1 completed\n"
     ]
    },
    {
     "name": "stdout",
     "output_type": "stream",
     "text": [
      "Fetching data for South Africa (EZA)...\n"
     ]
    },
    {
     "name": "stderr",
     "output_type": "stream",
     "text": [
      "[*********************100%***********************]  1 of 1 completed\n"
     ]
    },
    {
     "name": "stdout",
     "output_type": "stream",
     "text": [
      "Fetching data for Mexico (EWW)...\n"
     ]
    },
    {
     "name": "stderr",
     "output_type": "stream",
     "text": [
      "[*********************100%***********************]  1 of 1 completed\n"
     ]
    },
    {
     "name": "stdout",
     "output_type": "stream",
     "text": [
      "Fetching data for Thailand (THD)...\n"
     ]
    },
    {
     "name": "stderr",
     "output_type": "stream",
     "text": [
      "[*********************100%***********************]  1 of 1 completed\n"
     ]
    },
    {
     "name": "stdout",
     "output_type": "stream",
     "text": [
      "Fetching data for South Korea (EWY)...\n"
     ]
    },
    {
     "name": "stderr",
     "output_type": "stream",
     "text": [
      "[*********************100%***********************]  1 of 1 completed\n"
     ]
    },
    {
     "name": "stdout",
     "output_type": "stream",
     "text": [
      "Fetching data for Indonesia (EIDO)...\n"
     ]
    },
    {
     "name": "stderr",
     "output_type": "stream",
     "text": [
      "\r",
      "[*********************100%***********************]  1 of 1 completed"
     ]
    },
    {
     "name": "stdout",
     "output_type": "stream",
     "text": [
      "Combined Data:\n",
      "                  USA     Canada    Germany      Japan         UK     France  \\\n",
      "Date                                                                           \n",
      "2014-01-02  32.727173  23.149382  23.626764  40.445057  26.655300  20.915253   \n",
      "2014-01-03  32.760433  23.133390  23.549932  40.682167  26.668226  20.824879   \n",
      "2014-01-06  32.652344  22.981514  23.665184  40.546673  26.603596  20.809814   \n",
      "2014-01-07  32.835266  22.893585  23.749701  40.716045  26.707003  20.960443   \n",
      "2014-01-08  32.818634  22.877602  23.680550  40.783783  26.655300  20.907728   \n",
      "\n",
      "                Italy  Australia      China      India     Brazil  \\\n",
      "Date                                                                \n",
      "2014-01-02  21.963028  15.227152  38.625954  20.793062  26.833466   \n",
      "2014-01-03  22.034662  15.378292  38.254547  21.242596  26.982590   \n",
      "2014-01-06  22.235239  15.327908  37.676807  21.136824  26.665726   \n",
      "2014-01-07  22.536098  15.302719  37.693321  21.083937  26.665726   \n",
      "2014-01-08  22.364178  15.208261  38.089478  21.145639  26.411003   \n",
      "\n",
      "            South Africa     Mexico   Thailand  South Korea  Indonesia  \n",
      "Date                                                                    \n",
      "2014-01-02     40.475368  52.736782  47.156303    51.557842  17.993307  \n",
      "2014-01-03     40.377438  52.712864  46.816566    51.239994  17.847418  \n",
      "2014-01-06     40.201180  52.146572  47.178959    50.830147  17.636681  \n",
      "2014-01-07     40.521061  52.728817  48.704025    51.022522  17.571844  \n",
      "2014-01-08     39.848652  51.987057  48.741772    50.796684  17.693419  \n"
     ]
    },
    {
     "name": "stderr",
     "output_type": "stream",
     "text": [
      "\n"
     ]
    }
   ],
   "source": [
    "# 定义国家和对应的 MSCI ETF\n",
    "Equity_assets = {\n",
    "    \"USA\": \"EUSA\",\n",
    "    \"Canada\": \"EWC\",\n",
    "    \"Germany\": \"EWG\",\n",
    "    \"Japan\": \"EWJ\",\n",
    "    \"UK\": \"EWU\",\n",
    "    \"France\": \"EWQ\",\n",
    "    \"Italy\": \"EWI\",\n",
    "    \"Australia\": \"EWA\",\n",
    "    \"China\": \"MCHI\",\n",
    "    \"India\": \"INDA\",\n",
    "    \"Brazil\": \"EWZ\",\n",
    "    \"South Africa\": \"EZA\",\n",
    "    \"Mexico\": \"EWW\",\n",
    "    \"Thailand\": \"THD\",\n",
    "    \"South Korea\": \"EWY\",\n",
    "    \"Indonesia\": \"EIDO\"\n",
    "}\n",
    "\n",
    "# 定义时间范围\n",
    "start_date = \"2014-01-01\"\n",
    "end_date = \"2024-10-31\"\n",
    "\n",
    "# 抓取数据\n",
    "Equity_countries = {}\n",
    "for country, ticker in Equity_assets.items():\n",
    "    print(f\"Fetching data for {country} ({ticker})...\")\n",
    "    data = yf.download(ticker, start=start_date, end=end_date)[\"Adj Close\"]\n",
    "    Equity_countries[country] = data\n",
    "\n",
    "# 合并所有国家的数据到一个 DataFrame\n",
    "df = pd.DataFrame(Equity_countries)\n",
    "print(\"Combined Data:\")\n",
    "print(df.head())\n"
   ]
  },
  {
   "cell_type": "code",
   "execution_count": 5,
   "id": "4130b46b",
   "metadata": {},
   "outputs": [
    {
     "name": "stdout",
     "output_type": "stream",
     "text": [
      "Daily Returns:\n",
      "                 USA    Canada   Germany     Japan        UK    France  \\\n",
      "Date                                                                     \n",
      "2014-01-03  0.001016 -0.000691 -0.003252  0.005863  0.000485 -0.004321   \n",
      "2014-01-06 -0.003299 -0.006565  0.004894 -0.003331 -0.002424 -0.000723   \n",
      "2014-01-07  0.005602 -0.003826  0.003571  0.004177  0.003887  0.007238   \n",
      "2014-01-08 -0.000507 -0.000698 -0.002912  0.001664 -0.001936 -0.002515   \n",
      "2014-01-09  0.000000 -0.002796 -0.002271 -0.003322 -0.001455 -0.002882   \n",
      "\n",
      "               Italy  Australia     China     India    Brazil  South Africa  \\\n",
      "Date                                                                          \n",
      "2014-01-03  0.003262   0.009926 -0.009615  0.021619  0.005557     -0.002420   \n",
      "2014-01-06  0.009103  -0.003276 -0.015103 -0.004979 -0.011743     -0.004365   \n",
      "2014-01-07  0.013531  -0.001643  0.000438 -0.002502  0.000000      0.007957   \n",
      "2014-01-08 -0.007629  -0.006173  0.010510  0.002927 -0.009552     -0.016594   \n",
      "2014-01-09  0.009609  -0.001656 -0.013651 -0.001667 -0.012468     -0.009830   \n",
      "\n",
      "              Mexico  Thailand  South Korea  Indonesia  \n",
      "Date                                                    \n",
      "2014-01-03 -0.000454 -0.007204    -0.006165  -0.008108  \n",
      "2014-01-06 -0.010743  0.007741    -0.007999  -0.011808  \n",
      "2014-01-07  0.011166  0.032325     0.003785  -0.003676  \n",
      "2014-01-08 -0.014067  0.000775    -0.004426   0.006919  \n",
      "2014-01-09  0.004449 -0.001704    -0.003458   0.002290  \n",
      "Monthly Returns:\n",
      "                 USA    Canada   Germany     Japan        UK    France  \\\n",
      "Date                                                                     \n",
      "2014-02-28  0.047111  0.044755  0.063024  0.024713  0.067805  0.080729   \n",
      "2014-03-31  0.005154  0.012680 -0.011353 -0.024117 -0.031514  0.005164   \n",
      "2014-04-30  0.003723  0.033503  0.010526 -0.022065  0.045168  0.028767   \n",
      "2014-05-31  0.023739  0.005239  0.014520  0.045126  0.009758  0.005326   \n",
      "2014-06-30  0.023424  0.056999 -0.007137  0.046824  0.008069 -0.014607   \n",
      "\n",
      "               Italy  Australia     China     India    Brazil  South Africa  \\\n",
      "Date                                                                          \n",
      "2014-02-28  0.068211   0.082899  0.030972  0.038083  0.044852      0.077123   \n",
      "2014-03-31  0.066867   0.036873 -0.006185  0.089448  0.098537      0.065326   \n",
      "2014-04-30  0.018634   0.022420 -0.025561 -0.001892  0.044405      0.012838   \n",
      "2014-05-31 -0.019956   0.004159  0.046076  0.079227 -0.011692      0.008798   \n",
      "2014-06-30 -0.003153  -0.001300  0.027295  0.047302  0.048236      0.024896   \n",
      "\n",
      "              Mexico  Thailand  South Korea  Indonesia  \n",
      "Date                                                    \n",
      "2014-02-28 -0.040865  0.054348     0.034553   0.101724  \n",
      "2014-03-31  0.060179  0.055612     0.007040   0.081377  \n",
      "2014-04-30 -0.001095  0.047043     0.016908   0.001447  \n",
      "2014-05-31  0.036631 -0.034945     0.033253  -0.009754  \n",
      "2014-06-30  0.027347  0.068905     0.006034  -0.027033  \n",
      "Quarterly Returns:\n",
      "                 USA    Canada   Germany     Japan        UK    France  \\\n",
      "Date                                                                     \n",
      "2014-06-30  0.051620  0.098135  0.017883  0.069922  0.063882  0.019140   \n",
      "2014-09-30  0.010369 -0.047190 -0.114450 -0.022425 -0.071839 -0.089194   \n",
      "2014-12-31  0.052854 -0.046301 -0.010469 -0.039343 -0.051064 -0.063158   \n",
      "2015-03-31  0.008898 -0.058212  0.088654  0.114769 -0.001109  0.053956   \n",
      "2015-06-30  0.003768 -0.011218 -0.049412  0.027539  0.031801  0.007157   \n",
      "\n",
      "               Italy  Australia     China     India    Brazil  South Africa  \\\n",
      "Date                                                                          \n",
      "2014-06-30 -0.004841   0.025337  0.047160  0.128138  0.081982      0.047186   \n",
      "2014-09-30 -0.097238  -0.083812  0.021781  0.018157 -0.090624     -0.066511   \n",
      "2014-12-31 -0.127102  -0.043763  0.070234 -0.006976 -0.147810      0.024343   \n",
      "2015-03-31  0.088235   0.031123  0.085009  0.068113 -0.142193      0.033940   \n",
      "2015-06-30  0.023979  -0.057860  0.038760 -0.050106  0.063837     -0.015064   \n",
      "\n",
      "              Mexico  Thailand  South Korea  Indonesia  \n",
      "Date                                                    \n",
      "2014-06-30  0.063814  0.080079     0.057064  -0.035129  \n",
      "2014-09-30  0.013568  0.085740    -0.069363   0.031842  \n",
      "2014-12-31 -0.127898 -0.069469    -0.075366   0.011147  \n",
      "2015-03-31 -0.024078  0.024658     0.035269   0.011297  \n",
      "2015-06-30 -0.007644 -0.042626    -0.037212  -0.154177  \n"
     ]
    }
   ],
   "source": [
    "#Countries的日收益率\n",
    "Equity_dreturns_countries=df.pct_change().dropna()\n",
    "print(\"Daily Returns:\")\n",
    "print(Equity_dreturns_countries.head())\n",
    "\n",
    "# 按月重新采样，取每月最后一个交易日的收盘价\n",
    "Equity_monthly_countries = df.resample('M').last()\n",
    "# 计算月度收益率\n",
    "Equity_mreturns_countries = Equity_monthly_countries.pct_change().dropna()\n",
    "print(\"Monthly Returns:\")\n",
    "print(Equity_mreturns_countries.head())\n",
    "\n",
    "# 按季度重新采样，取每季度最后一个交易日的收盘价\n",
    "Equity_quarterly_countries = df.resample('Q').last()\n",
    "# 计算季度收益率\n",
    "Equity_qreturns_countries =Equity_quarterly_countries.pct_change().dropna()\n",
    "print(\"Quarterly Returns:\")\n",
    "print(Equity_qreturns_countries.head())\n"
   ]
  },
  {
   "cell_type": "markdown",
   "id": "22d430cd",
   "metadata": {},
   "source": [
    "# Bond(Fixed Income)\n",
    "\n",
    "1.\t找 Y 和D\n",
    "2.\tMSCI World Sovereign Index (WSI) developed\n",
    "3.\tMSCI Emerging Markets Sovereign (EMS) emerging\n"
   ]
  },
  {
   "cell_type": "code",
   "execution_count": 7,
   "id": "f5ec0d70",
   "metadata": {},
   "outputs": [
    {
     "name": "stdout",
     "output_type": "stream",
     "text": [
      "Fetching data for iShares Global Government Bond ETF (IGOV)...\n",
      "Fetching data for VanEck Emerging Markets Local Currency Bond ETF (EMLC)...\n",
      "ETF Data:\n",
      "                                IGOV       EMLC\n",
      "Date                                           \n",
      "2014-11-28 00:00:00-05:00  47.791527  25.598013\n",
      "2014-12-01 00:00:00-05:00  47.723095  25.542015\n",
      "2014-12-02 00:00:00-05:00  47.346752  25.290588\n",
      "2014-12-03 00:00:00-05:00  47.195232  25.279161\n",
      "2014-12-04 00:00:00-05:00  47.278324  25.210592\n"
     ]
    }
   ],
   "source": [
    "# Define ETFs that track MSCI indices or related sovereign bond indices\n",
    "etfs = {\n",
    "    \"IGOV\": \"iShares Global Government Bond ETF\",\n",
    "    \"EMLC\": \"VanEck Emerging Markets Local Currency Bond ETF\"\n",
    "}\n",
    "\n",
    "# Fetch historical data\n",
    "Bond_data = {}\n",
    "for ticker, name in etfs.items():\n",
    "    print(f\"Fetching data for {name} ({ticker})...\")\n",
    "    etf = yf.Ticker(ticker)\n",
    "    etf_data = etf.history(period=\"10y\")  # Last 10 years of data\n",
    "    Bond_data[ticker] = etf_data[\"Close\"]\n",
    "\n",
    "# Combine into a DataFrame\n",
    "Bond_df = pd.DataFrame(Bond_data)\n",
    "print(\"ETF Data:\")\n",
    "print(Bond_df.head())\n",
    "\n",
    "# Save data to CSV\n",
    "Bond_df.to_csv(\"msci_etf_data.csv\")\n"
   ]
  },
  {
   "cell_type": "code",
   "execution_count": null,
   "id": "fc5c6848",
   "metadata": {},
   "outputs": [],
   "source": []
  }
 ],
 "metadata": {
  "kernelspec": {
   "display_name": "Python 3 (ipykernel)",
   "language": "python",
   "name": "python3"
  },
  "language_info": {
   "codemirror_mode": {
    "name": "ipython",
    "version": 3
   },
   "file_extension": ".py",
   "mimetype": "text/x-python",
   "name": "python",
   "nbconvert_exporter": "python",
   "pygments_lexer": "ipython3",
   "version": "3.9.7"
  }
 },
 "nbformat": 4,
 "nbformat_minor": 5
}
