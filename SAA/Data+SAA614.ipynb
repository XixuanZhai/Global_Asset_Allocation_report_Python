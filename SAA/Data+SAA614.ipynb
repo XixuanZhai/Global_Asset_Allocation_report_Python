{
 "cells": [
  {
   "cell_type": "markdown",
   "id": "6d131a48",
   "metadata": {},
   "source": [
    "# Equity"
   ]
  },
  {
   "cell_type": "markdown",
   "id": "016ecf2b",
   "metadata": {},
   "source": [
    "1.\t全球市场（即market return）：MSCI All Country World Index (ACWI) 反映全球市场(sample1里面是MSCI World Index 只有23个developed )，覆盖 49个developed+developing国家。\n",
    "2.\t不同国家的equity数据：MSCI Country Indices\n",
    "\n",
    "假期数据问题：\n",
    "\n",
    "如果某月的最后一个交易日是节假日，重新采样会选择最近的交易日。\n",
    "缺失数据处理：\n",
    "\n",
    "可能某些资产存在缺失值，使用 dropna() 清理数据，或者用 fillna() 填充。\n",
    "更改时间间隔：\n",
    "\n",
    "M 表示月度数据，Q 表示季度数据。\n",
    "如果需要更细或更宽的间隔，可以替换为 W (周)、A (年度) 等。\n"
   ]
  },
  {
   "cell_type": "code",
   "execution_count": 1,
   "id": "9813bd43",
   "metadata": {},
   "outputs": [
    {
     "name": "stderr",
     "output_type": "stream",
     "text": [
      "\r",
      "[*********************100%***********************]  1 of 1 completed"
     ]
    },
    {
     "name": "stdout",
     "output_type": "stream",
     "text": [
      "Date\n",
      "2014-01-02     45.872349\n",
      "2014-01-03     45.848129\n",
      "2014-01-06     45.702755\n",
      "2014-01-07     45.945042\n",
      "2014-01-08     45.928894\n",
      "                 ...    \n",
      "2024-10-24    119.029999\n",
      "2024-10-25    118.820000\n",
      "2024-10-28    119.440002\n",
      "2024-10-29    119.370003\n",
      "2024-10-30    118.839996\n",
      "Name: Adj Close, Length: 2726, dtype: float64\n"
     ]
    },
    {
     "name": "stderr",
     "output_type": "stream",
     "text": [
      "\n"
     ]
    }
   ],
   "source": [
    "import yfinance as yf\n",
    "import pandas as pd\n",
    "\n",
    "# 定义目标 ETF 或指数\n",
    "ticker = \"ACWI\"  # MSCI All Country World Index 的 ETF\n",
    "start_date = \"2014-01-01\"\n",
    "end_date = \"2024-10-31\"\n",
    "\n",
    "# 下载每日数据\n",
    "Equity_ACWI = yf.download(ticker, start=start_date, end=end_date)\n",
    "Equity_ACWI=Equity_ACWI['Adj Close']\n",
    "print(Equity_ACWI)"
   ]
  },
  {
   "cell_type": "code",
   "execution_count": 2,
   "id": "62d129e8",
   "metadata": {},
   "outputs": [],
   "source": [
    "#Market的日回报率\n",
    "Equity_dreturns_ACWI = Equity_ACWI.pct_change().dropna()\n",
    "\n",
    "# 按月重新采样\n",
    "Equity_monthly_ACWI = Equity_ACWI.resample('M').last()  # 获取每月最后一个交易日的收盘价\n",
    "\n",
    "# 按季度重新采样\n",
    "Equity_quarterly_ACWI = Equity_ACWI.resample('Q').last()  # 获取每季度最后一个交易日的收盘价\n",
    "\n",
    "# 计算月度回报率\n",
    "Equity_mreturns_ACWI = Equity_monthly_ACWI.pct_change().dropna()  # 按月的百分比变化\n",
    "\n",
    "# 计算季度回报率\n",
    "Equity_qreturns_ACWI = Equity_quarterly_ACWI.pct_change().dropna()  # 按季度的百分比变化\n",
    "\n",
    "\n"
   ]
  },
  {
   "cell_type": "code",
   "execution_count": 3,
   "id": "a6fd24a5",
   "metadata": {},
   "outputs": [
    {
     "name": "stdout",
     "output_type": "stream",
     "text": [
      "Fetching data for USA (EUSA)...\n"
     ]
    },
    {
     "name": "stderr",
     "output_type": "stream",
     "text": [
      "[*********************100%***********************]  1 of 1 completed\n",
      "[*********************100%***********************]  1 of 1 completed\n"
     ]
    },
    {
     "name": "stdout",
     "output_type": "stream",
     "text": [
      "Fetching data for Canada (EWC)...\n",
      "Fetching data for Germany (EWG)...\n"
     ]
    },
    {
     "name": "stderr",
     "output_type": "stream",
     "text": [
      "[*********************100%***********************]  1 of 1 completed\n"
     ]
    },
    {
     "name": "stdout",
     "output_type": "stream",
     "text": [
      "Fetching data for Japan (EWJ)...\n"
     ]
    },
    {
     "name": "stderr",
     "output_type": "stream",
     "text": [
      "[*********************100%***********************]  1 of 1 completed\n",
      "[*********************100%***********************]  1 of 1 completed"
     ]
    },
    {
     "name": "stdout",
     "output_type": "stream",
     "text": [
      "Fetching data for UK (EWU)...\n"
     ]
    },
    {
     "name": "stderr",
     "output_type": "stream",
     "text": [
      "\n"
     ]
    },
    {
     "name": "stdout",
     "output_type": "stream",
     "text": [
      "Fetching data for France (EWQ)...\n"
     ]
    },
    {
     "name": "stderr",
     "output_type": "stream",
     "text": [
      "[*********************100%***********************]  1 of 1 completed\n"
     ]
    },
    {
     "name": "stdout",
     "output_type": "stream",
     "text": [
      "Fetching data for Italy (EWI)...\n"
     ]
    },
    {
     "name": "stderr",
     "output_type": "stream",
     "text": [
      "[*********************100%***********************]  1 of 1 completed\n",
      "[*********************100%***********************]  1 of 1 completed"
     ]
    },
    {
     "name": "stdout",
     "output_type": "stream",
     "text": [
      "Fetching data for Australia (EWA)...\n"
     ]
    },
    {
     "name": "stderr",
     "output_type": "stream",
     "text": [
      "\n",
      "[*********************100%***********************]  1 of 1 completed\n"
     ]
    },
    {
     "name": "stdout",
     "output_type": "stream",
     "text": [
      "Fetching data for China (MCHI)...\n",
      "Fetching data for India (INDA)...\n"
     ]
    },
    {
     "name": "stderr",
     "output_type": "stream",
     "text": [
      "[*********************100%***********************]  1 of 1 completed\n",
      "[*********************100%***********************]  1 of 1 completed"
     ]
    },
    {
     "name": "stdout",
     "output_type": "stream",
     "text": [
      "Fetching data for Brazil (EWZ)...\n"
     ]
    },
    {
     "name": "stderr",
     "output_type": "stream",
     "text": [
      "\n",
      "\r",
      "[*********************100%***********************]  1 of 1 completed"
     ]
    },
    {
     "name": "stdout",
     "output_type": "stream",
     "text": [
      "Fetching data for South Africa (EZA)...\n"
     ]
    },
    {
     "name": "stderr",
     "output_type": "stream",
     "text": [
      "\n",
      "\r",
      "[*********************100%***********************]  1 of 1 completed"
     ]
    },
    {
     "name": "stdout",
     "output_type": "stream",
     "text": [
      "Fetching data for Mexico (EWW)...\n"
     ]
    },
    {
     "name": "stderr",
     "output_type": "stream",
     "text": [
      "\n",
      "[*********************100%***********************]  1 of 1 completed\n"
     ]
    },
    {
     "name": "stdout",
     "output_type": "stream",
     "text": [
      "Fetching data for Thailand (THD)...\n",
      "Fetching data for South Korea (EWY)...\n"
     ]
    },
    {
     "name": "stderr",
     "output_type": "stream",
     "text": [
      "[*********************100%***********************]  1 of 1 completed\n",
      "[*********************100%***********************]  1 of 1 completed"
     ]
    },
    {
     "name": "stdout",
     "output_type": "stream",
     "text": [
      "Fetching data for Indonesia (EIDO)...\n",
      "Combined Data:\n",
      "                  USA     Canada    Germany      Japan         UK     France  \\\n",
      "Date                                                                           \n",
      "2014-01-02  32.727180  23.149372  23.626766  40.445053  26.655300  20.915257   \n",
      "2014-01-03  32.760426  23.133396  23.549932  40.682171  26.668224  20.824879   \n",
      "2014-01-06  32.652348  22.981514  23.665184  40.546677  26.603596  20.809814   \n",
      "2014-01-07  32.835262  22.893585  23.749699  40.716053  26.707008  20.960445   \n",
      "2014-01-08  32.818638  22.877600  23.680553  40.783787  26.655300  20.907721   \n",
      "\n",
      "                Italy  Australia      China      India     Brazil  \\\n",
      "Date                                                                \n",
      "2014-01-02  21.963024  15.227155  38.625957  20.793066  26.833473   \n",
      "2014-01-03  22.034662  15.378292  38.254559  21.242596  26.982580   \n",
      "2014-01-06  22.235239  15.327907  37.676815  21.136822  26.665722   \n",
      "2014-01-07  22.536098  15.302721  37.693321  21.083941  26.665722   \n",
      "2014-01-08  22.364180  15.208261  38.089481  21.145638  26.410995   \n",
      "\n",
      "            South Africa     Mexico   Thailand  South Korea  Indonesia  \n",
      "Date                                                                    \n",
      "2014-01-02     40.475368  52.736794  47.156300    51.557842  17.993309  \n",
      "2014-01-03     40.377441  52.712845  46.816570    51.239990  17.847416  \n",
      "2014-01-06     40.201180  52.146572  47.178959    50.830147  17.636681  \n",
      "2014-01-07     40.521065  52.728806  48.704029    51.022522  17.571842  \n",
      "2014-01-08     39.848652  51.987061  48.741772    50.796684  17.693417  \n"
     ]
    },
    {
     "name": "stderr",
     "output_type": "stream",
     "text": [
      "\n"
     ]
    }
   ],
   "source": [
    "# 定义国家和对应的 MSCI ETF\n",
    "Equity_assets = {\n",
    "    \"USA\": \"EUSA\",\n",
    "    \"Canada\": \"EWC\",\n",
    "    \"Germany\": \"EWG\",\n",
    "    \"Japan\": \"EWJ\",\n",
    "    \"UK\": \"EWU\",\n",
    "    \"France\": \"EWQ\",\n",
    "    \"Italy\": \"EWI\",\n",
    "    \"Australia\": \"EWA\",\n",
    "    \"China\": \"MCHI\",\n",
    "    \"India\": \"INDA\",\n",
    "    \"Brazil\": \"EWZ\",\n",
    "    \"South Africa\": \"EZA\",\n",
    "    \"Mexico\": \"EWW\",\n",
    "    \"Thailand\": \"THD\",\n",
    "    \"South Korea\": \"EWY\",\n",
    "    \"Indonesia\": \"EIDO\"\n",
    "}\n",
    "\n",
    "# 定义时间范围\n",
    "start_date = \"2014-01-01\"\n",
    "end_date = \"2024-10-31\"\n",
    "\n",
    "# 抓取数据\n",
    "Equity_countries = {}\n",
    "for country, ticker in Equity_assets.items():\n",
    "    print(f\"Fetching data for {country} ({ticker})...\")\n",
    "    data = yf.download(ticker, start=start_date, end=end_date)[\"Adj Close\"]\n",
    "    Equity_countries[country] = data\n",
    "\n",
    "# 合并所有国家的数据到一个 DataFrame\n",
    "df = pd.DataFrame(Equity_countries)\n",
    "print(\"Combined Data:\")\n",
    "print(df.head())\n"
   ]
  },
  {
   "cell_type": "code",
   "execution_count": 4,
   "id": "8398de82",
   "metadata": {},
   "outputs": [
    {
     "name": "stdout",
     "output_type": "stream",
     "text": [
      "Daily Returns:\n",
      "                 USA    Canada   Germany     Japan        UK    France  \\\n",
      "Date                                                                     \n",
      "2014-01-03  0.001016 -0.000690 -0.003252  0.005863  0.000485 -0.004321   \n",
      "2014-01-06 -0.003299 -0.006565  0.004894 -0.003331 -0.002423 -0.000723   \n",
      "2014-01-07  0.005602 -0.003826  0.003571  0.004177  0.003887  0.007238   \n",
      "2014-01-08 -0.000506 -0.000698 -0.002911  0.001664 -0.001936 -0.002515   \n",
      "2014-01-09  0.000000 -0.002795 -0.002271 -0.003322 -0.001455 -0.002881   \n",
      "\n",
      "               Italy  Australia     China     India    Brazil  South Africa  \\\n",
      "Date                                                                          \n",
      "2014-01-03  0.003262   0.009926 -0.009615  0.021619  0.005557     -0.002419   \n",
      "2014-01-06  0.009103  -0.003276 -0.015103 -0.004979 -0.011743     -0.004365   \n",
      "2014-01-07  0.013531  -0.001643  0.000438 -0.002502  0.000000      0.007957   \n",
      "2014-01-08 -0.007629  -0.006173  0.010510  0.002926 -0.009553     -0.016594   \n",
      "2014-01-09  0.009609  -0.001656 -0.013651 -0.001667 -0.012468     -0.009830   \n",
      "\n",
      "              Mexico  Thailand  South Korea  Indonesia  \n",
      "Date                                                    \n",
      "2014-01-03 -0.000454 -0.007204    -0.006165  -0.008108  \n",
      "2014-01-06 -0.010743  0.007741    -0.007999  -0.011808  \n",
      "2014-01-07  0.011165  0.032325     0.003785  -0.003676  \n",
      "2014-01-08 -0.014067  0.000775    -0.004426   0.006919  \n",
      "2014-01-09  0.004449 -0.001704    -0.003458   0.002290  \n",
      "Monthly Returns:\n",
      "                 USA    Canada   Germany     Japan        UK    France  \\\n",
      "Date                                                                     \n",
      "2014-02-28  0.047111  0.044755  0.063024  0.024714  0.067805  0.080729   \n",
      "2014-03-31  0.005154  0.012680 -0.011353 -0.024118 -0.031515  0.005164   \n",
      "2014-04-30  0.003723  0.033503  0.010526 -0.022065  0.045168  0.028767   \n",
      "2014-05-31  0.023739  0.005239  0.014520  0.045126  0.009758  0.005326   \n",
      "2014-06-30  0.023424  0.056999 -0.007137  0.046824  0.008069 -0.014606   \n",
      "\n",
      "               Italy  Australia     China     India    Brazil  South Africa  \\\n",
      "Date                                                                          \n",
      "2014-02-28  0.068211   0.082899  0.030972  0.038083  0.044852      0.077123   \n",
      "2014-03-31  0.066867   0.036874 -0.006185  0.089448  0.098537      0.065326   \n",
      "2014-04-30  0.018633   0.022420 -0.025561 -0.001892  0.044405      0.012838   \n",
      "2014-05-31 -0.019956   0.004159  0.046077  0.079226 -0.011692      0.008798   \n",
      "2014-06-30 -0.003153  -0.001300  0.027294  0.047302  0.048236      0.024896   \n",
      "\n",
      "              Mexico  Thailand  South Korea  Indonesia  \n",
      "Date                                                    \n",
      "2014-02-28 -0.040865  0.054348     0.034553   0.101724  \n",
      "2014-03-31  0.060179  0.055612     0.007040   0.081377  \n",
      "2014-04-30 -0.001094  0.047043     0.016908   0.001447  \n",
      "2014-05-31  0.036631 -0.034945     0.033253  -0.009755  \n",
      "2014-06-30  0.027347  0.068905     0.006034  -0.027033  \n",
      "Quarterly Returns:\n",
      "                 USA    Canada   Germany     Japan        UK    France  \\\n",
      "Date                                                                     \n",
      "2014-06-30  0.051619  0.098135  0.017883  0.069922  0.063882  0.019140   \n",
      "2014-09-30  0.010368 -0.047190 -0.114450 -0.022425 -0.071839 -0.089194   \n",
      "2014-12-31  0.052854 -0.046301 -0.010469 -0.039343 -0.051063 -0.063158   \n",
      "2015-03-31  0.008898 -0.058212  0.088654  0.114769 -0.001109  0.053956   \n",
      "2015-06-30  0.003767 -0.011218 -0.049412  0.027539  0.031800  0.007157   \n",
      "\n",
      "               Italy  Australia     China     India    Brazil  South Africa  \\\n",
      "Date                                                                          \n",
      "2014-06-30 -0.004842   0.025337  0.047160  0.128138  0.081983      0.047186   \n",
      "2014-09-30 -0.097238  -0.083812  0.021781  0.018157 -0.090624     -0.066511   \n",
      "2014-12-31 -0.127103  -0.043763  0.070234 -0.006976 -0.147810      0.024343   \n",
      "2015-03-31  0.088235   0.031123  0.085009  0.068113 -0.142193      0.033940   \n",
      "2015-06-30  0.023980  -0.057860  0.038760 -0.050106  0.063837     -0.015064   \n",
      "\n",
      "              Mexico  Thailand  South Korea  Indonesia  \n",
      "Date                                                    \n",
      "2014-06-30  0.063814  0.080079     0.057064  -0.035129  \n",
      "2014-09-30  0.013568  0.085740    -0.069363   0.031843  \n",
      "2014-12-31 -0.127898 -0.069469    -0.075366   0.011147  \n",
      "2015-03-31 -0.024078  0.024658     0.035269   0.011298  \n",
      "2015-06-30 -0.007645 -0.042626    -0.037212  -0.154177  \n"
     ]
    }
   ],
   "source": [
    "#Countries的日收益率\n",
    "Equity_dreturns_countries=df.pct_change().dropna()\n",
    "print(\"Daily Returns:\")\n",
    "print(Equity_dreturns_countries.head())\n",
    "\n",
    "# 按月重新采样，取每月最后一个交易日的收盘价\n",
    "Equity_monthly_countries = df.resample('M').last()\n",
    "# 计算月度收益率\n",
    "Equity_mreturns_countries = Equity_monthly_countries.pct_change().dropna()\n",
    "print(\"Monthly Returns:\")\n",
    "print(Equity_mreturns_countries.head())\n",
    "\n",
    "# 按季度重新采样，取每季度最后一个交易日的收盘价\n",
    "Equity_quarterly_countries = df.resample('Q').last()\n",
    "# 计算季度收益率\n",
    "Equity_qreturns_countries =Equity_quarterly_countries.pct_change().dropna()\n",
    "print(\"Quarterly Returns:\")\n",
    "print(Equity_qreturns_countries.head())\n"
   ]
  },
  {
   "cell_type": "markdown",
   "id": "99632132",
   "metadata": {},
   "source": [
    "# Bond(Fixed Income)\n",
    "\n",
    "1.\t找 Y 和D\n",
    "2.\tMSCI World Sovereign Index (WSI) developed\n",
    "3.\tMSCI Emerging Markets Sovereign (EMS) emerging\n"
   ]
  },
  {
   "cell_type": "code",
   "execution_count": 5,
   "id": "220b7fea",
   "metadata": {},
   "outputs": [
    {
     "name": "stdout",
     "output_type": "stream",
     "text": [
      "Fetching data for iShares Global Government Bond ETF (IGOV)...\n",
      "Fetching data for VanEck Emerging Markets Local Currency Bond ETF (EMLC)...\n"
     ]
    }
   ],
   "source": [
    "# Define ETFs that track MSCI indices or related sovereign bond indices\n",
    "etfs = {\n",
    "    \"IGOV\": \"iShares Global Government Bond ETF\",\n",
    "    \"EMLC\": \"VanEck Emerging Markets Local Currency Bond ETF\"\n",
    "}\n",
    "\n",
    "# Fetch historical data\n",
    "Bond_data = {}\n",
    "for ticker, name in etfs.items():\n",
    "    print(f\"Fetching data for {name} ({ticker})...\")\n",
    "    etf = yf.Ticker(ticker)\n",
    "    etf_data = etf.history(period=\"10y\")  # Last 10 years of data\n",
    "    Bond_data[ticker] = etf_data[\"Close\"]\n",
    "\n",
    "# Combine into a DataFrame\n",
    "Bond_df = pd.DataFrame(Bond_data)\n",
    "\n",
    "# Save data to CSV\n",
    "Bond_df.to_csv(\"msci_etf_data.csv\")\n"
   ]
  },
  {
   "cell_type": "markdown",
   "id": "677ea4a1",
   "metadata": {},
   "source": [
    "* Risk free interst rate = US 6-month treasury bond yield(YTM)\n",
    "\n",
    "Since the data points for regression is monthly data, the rf should be transformed to monthly rate.Beacause our portfolio is denominated in USD /our analysis is conducted from a USD-based perspective, we choose US 6-month treasury bond yield to be the Risk free interst rate.\n",
    "Global Perspective: We are treating the US risk-free rate as the \"base\" or global benchmark.\n",
    "Simplicity: It simplifies calculations and makes cross-country comparisons easier."
   ]
  },
  {
   "cell_type": "code",
   "execution_count": 6,
   "id": "9ad49f76",
   "metadata": {},
   "outputs": [],
   "source": [
    "rf_annual=0.0445 #according to bloomberg\n",
    "rf_monthly = (1 + rf_annual) ** (1/12) - 1\n"
   ]
  },
  {
   "cell_type": "markdown",
   "id": "31ddf6a8",
   "metadata": {},
   "source": [
    "# Regression to calculate Beta"
   ]
  },
  {
   "cell_type": "code",
   "execution_count": 7,
   "id": "4bac8c33",
   "metadata": {},
   "outputs": [
    {
     "name": "stdout",
     "output_type": "stream",
     "text": [
      "              Market\n",
      "Date                \n",
      "2014-02-28  0.048413\n",
      "2014-03-31  0.002074\n",
      "2014-04-30  0.008233\n",
      "2014-05-31  0.016423\n",
      "2014-06-30  0.014547\n",
      "...              ...\n",
      "2024-06-30  0.016743\n",
      "2024-07-31  0.011757\n",
      "2024-08-31  0.021337\n",
      "2024-09-30  0.018335\n",
      "2024-10-31 -0.009574\n",
      "\n",
      "[129 rows x 1 columns]\n",
      "                 USA    Canada   Germany     Japan        UK    France  \\\n",
      "Date                                                                     \n",
      "2014-02-28  0.043476  0.041120  0.059389  0.021079  0.064171  0.077094   \n",
      "2014-03-31  0.001519  0.009045 -0.014988 -0.027752 -0.035149  0.001529   \n",
      "2014-04-30  0.000088  0.029868  0.006892 -0.025700  0.041533  0.025132   \n",
      "2014-05-31  0.020104  0.001604  0.010885  0.041491  0.006123  0.001691   \n",
      "2014-06-30  0.019789  0.053365 -0.010772  0.043189  0.004434 -0.018241   \n",
      "...              ...       ...       ...       ...       ...       ...   \n",
      "2024-06-30 -0.004831 -0.025115 -0.025229 -0.006902 -0.024721 -0.076918   \n",
      "2024-07-31  0.037045  0.045705  0.012368  0.036371  0.035929  0.015688   \n",
      "2024-08-31  0.021191  0.036704  0.045224  0.010456  0.031390  0.031940   \n",
      "2024-09-30  0.017990  0.021804  0.033448 -0.009609 -0.006832  0.009404   \n",
      "2024-10-31 -0.003426 -0.010619 -0.042346 -0.047247 -0.044800 -0.056358   \n",
      "\n",
      "               Italy  Australia     China     India    Brazil  South Africa  \\\n",
      "Date                                                                          \n",
      "2014-02-28  0.064576   0.079264  0.027337  0.034448  0.041217      0.073488   \n",
      "2014-03-31  0.063233   0.033239 -0.009820  0.085813  0.094902      0.061691   \n",
      "2014-04-30  0.014999   0.018785 -0.029196 -0.005527  0.040770      0.009203   \n",
      "2014-05-31 -0.023590   0.000524  0.042442  0.075592 -0.015327      0.005163   \n",
      "2014-06-30 -0.006788  -0.004935  0.023660  0.043667  0.044601      0.021261   \n",
      "...              ...        ...       ...       ...       ...           ...   \n",
      "2024-06-30 -0.057987   0.006568 -0.037088  0.048620 -0.049854      0.080529   \n",
      "2024-07-31  0.032349   0.020516 -0.019049  0.025766  0.012465      0.046919   \n",
      "2024-08-31  0.042407   0.030338  0.003832  0.001590  0.071986      0.028226   \n",
      "2024-09-30 -0.000803   0.044297  0.213434  0.010398 -0.016357      0.069619   \n",
      "2024-10-31 -0.025195  -0.060072 -0.032116 -0.064117 -0.048057     -0.017921   \n",
      "\n",
      "              Mexico  Thailand  South Korea  Indonesia  \n",
      "Date                                                    \n",
      "2014-02-28 -0.044500  0.050713     0.030918   0.098089  \n",
      "2014-03-31  0.056544  0.051977     0.003405   0.077742  \n",
      "2014-04-30 -0.004729  0.043408     0.013273  -0.002187  \n",
      "2014-05-31  0.032996 -0.038580     0.029619  -0.013389  \n",
      "2014-06-30  0.023712  0.065270     0.002400  -0.030668  \n",
      "...              ...       ...          ...        ...  \n",
      "2024-06-30 -0.124132 -0.041323     0.059247   0.005318  \n",
      "2024-07-31 -0.005225  0.048706     0.003326   0.041513  \n",
      "2024-08-31 -0.065206  0.074299    -0.019412   0.077299  \n",
      "2024-09-30  0.008997  0.121954    -0.027146   0.029898  \n",
      "2024-10-31 -0.044223 -0.061227    -0.053041  -0.045857  \n",
      "\n",
      "[129 rows x 16 columns]\n"
     ]
    }
   ],
   "source": [
    "import pandas as pd\n",
    "import numpy as np\n",
    "import statsmodels.api as sm\n",
    "\n",
    "Equity_mreturns_excess_ACWI=Equity_mreturns_ACWI-rf_monthly\n",
    "Equity_mreturns_excess_countries=Equity_mreturns_countries-rf_monthly\n",
    "Equity_mreturns_excess_ACWI =Equity_mreturns_excess_ACWI.to_frame(name=\"Market\")\n",
    "\n",
    "print(Equity_mreturns_excess_ACWI)\n",
    "print(Equity_mreturns_excess_countries)"
   ]
  },
  {
   "cell_type": "code",
   "execution_count": 8,
   "id": "8ff56cde",
   "metadata": {},
   "outputs": [
    {
     "name": "stderr",
     "output_type": "stream",
     "text": [
      "D:\\progr\\lib\\site-packages\\statsmodels\\tsa\\tsatools.py:142: FutureWarning: In a future version of pandas all arguments of concat except for the argument 'objs' will be keyword-only\n",
      "  x = pd.concat(x[::order], 1)\n"
     ]
    }
   ],
   "source": [
    "# Assuming Equity_mreturns_excess_countries and Equity_mreturns_excess_ACWI are your DataFrames\n",
    "countries = Equity_mreturns_excess_countries.columns\n",
    "market = Equity_mreturns_excess_ACWI[\"Market\"]  # The market column\n",
    "time_horizons = [12, 36, 60]  # 1-year, 3-year, 5-year in months\n",
    "\n",
    "def calculate_beta(country_returns, market_returns, window):\n",
    "    betas = []\n",
    "    for i in range(len(country_returns) - window + 1):\n",
    "        # Get the rolling window data\n",
    "        country_window = country_returns.iloc[i:i+window]\n",
    "        market_window = market_returns.iloc[i:i+window]\n",
    "\n",
    "        # Add constant for regression\n",
    "        X = sm.add_constant(market_window)\n",
    "        y = country_window\n",
    "\n",
    "        # Perform OLS regression\n",
    "        model = sm.OLS(y, X).fit()\n",
    "        betas.append(model.params[\"Market\"])  # Extract beta (slope coefficient)\n",
    "    return betas\n",
    "\n",
    "results = {}\n",
    "\n",
    "for country in countries:\n",
    "    results[country] = {}\n",
    "    for horizon in time_horizons:\n",
    "        # Call the regression function for each country and time horizon\n",
    "        country_returns = Equity_mreturns_excess_countries[country]\n",
    "        results[country][f\"{horizon}-month beta\"] = calculate_beta(country_returns, market, horizon)\n",
    "\n",
    "# Convert results to a DataFrame for easier viewing\n",
    "betas_df = pd.DataFrame(results)\n"
   ]
  },
  {
   "cell_type": "code",
   "execution_count": 9,
   "id": "31f6de33",
   "metadata": {},
   "outputs": [
    {
     "name": "stdout",
     "output_type": "stream",
     "text": [
      "              12-month beta  36-month beta  60-month beta\n",
      "USA                1.161508       1.071166       1.137475\n",
      "Canada             1.049415       1.009507       1.107611\n",
      "Germany            1.445932       1.288873       1.272579\n",
      "Japan              0.947590       0.897855       0.751798\n",
      "UK                 0.646812       0.805349       0.936962\n",
      "France             1.181361       1.136598       1.182205\n",
      "Italy              1.227586       1.200509       1.255265\n",
      "Australia          1.349749       1.200888       1.237875\n",
      "China              0.256419       0.673519       0.576871\n",
      "India              0.574798       0.563871       0.824691\n",
      "Brazil             1.387060       0.893345       1.307430\n",
      "South Africa       0.465320       1.066752       1.203634\n",
      "Mexico             1.609972       1.048781       1.189219\n",
      "Thailand           0.548254       0.636495       0.950401\n",
      "South Korea        1.814165       1.412556       1.263061\n",
      "Indonesia          0.987657       0.432513       0.948425\n"
     ]
    }
   ],
   "source": [
    "# Assuming 'results' contains the dictionary structure from your calculation\n",
    "final_betas = {}\n",
    "\n",
    "for country, beta_data in results.items():\n",
    "    final_betas[country] = {\n",
    "        \"12-month beta\": beta_data[\"12-month beta\"][-1],  # Last value of 12-month beta\n",
    "        \"36-month beta\": beta_data[\"36-month beta\"][-1],  # Last value of 36-month beta\n",
    "        \"60-month beta\": beta_data[\"60-month beta\"][-1],  # Last value of 60-month beta\n",
    "    }\n",
    "\n",
    "# Convert to DataFrame for better visualization\n",
    "import pandas as pd\n",
    "final_betas_df = pd.DataFrame(final_betas).T  # Transpose for country rows\n",
    "print(final_betas_df)\n",
    "final_betas_df.to_csv(\"beta_equity.csv\")"
   ]
  },
  {
   "cell_type": "markdown",
   "id": "4a328758",
   "metadata": {},
   "source": [
    "# Currency\n",
    "calculate the st,t+k ,the return of currency from time t to t+k (k=1,3,5Year)"
   ]
  },
  {
   "cell_type": "code",
   "execution_count": 10,
   "id": "d59ed609",
   "metadata": {},
   "outputs": [
    {
     "data": {
      "text/html": [
       "<div>\n",
       "<style scoped>\n",
       "    .dataframe tbody tr th:only-of-type {\n",
       "        vertical-align: middle;\n",
       "    }\n",
       "\n",
       "    .dataframe tbody tr th {\n",
       "        vertical-align: top;\n",
       "    }\n",
       "\n",
       "    .dataframe thead th {\n",
       "        text-align: right;\n",
       "    }\n",
       "</style>\n",
       "<table border=\"1\" class=\"dataframe\">\n",
       "  <thead>\n",
       "    <tr style=\"text-align: right;\">\n",
       "      <th></th>\n",
       "      <th>Country</th>\n",
       "      <th>2023</th>\n",
       "      <th>2024</th>\n",
       "      <th>2025</th>\n",
       "      <th>2026</th>\n",
       "      <th>2027</th>\n",
       "      <th>2028</th>\n",
       "      <th>2029</th>\n",
       "      <th>1-year_FX_Return</th>\n",
       "      <th>3-year_FX_Return</th>\n",
       "      <th>5-year_FX_Return</th>\n",
       "    </tr>\n",
       "  </thead>\n",
       "  <tbody>\n",
       "    <tr>\n",
       "      <th>0</th>\n",
       "      <td>Australia</td>\n",
       "      <td>5.616</td>\n",
       "      <td>3.315</td>\n",
       "      <td>3.270</td>\n",
       "      <td>2.953</td>\n",
       "      <td>2.544</td>\n",
       "      <td>2.467</td>\n",
       "      <td>2.473</td>\n",
       "      <td>-1.373100</td>\n",
       "      <td>-2.654775</td>\n",
       "      <td>-3.294014</td>\n",
       "    </tr>\n",
       "    <tr>\n",
       "      <th>1</th>\n",
       "      <td>Brazil</td>\n",
       "      <td>4.594</td>\n",
       "      <td>4.272</td>\n",
       "      <td>3.586</td>\n",
       "      <td>3.135</td>\n",
       "      <td>2.979</td>\n",
       "      <td>2.965</td>\n",
       "      <td>2.968</td>\n",
       "      <td>-1.673971</td>\n",
       "      <td>-3.532220</td>\n",
       "      <td>-5.087687</td>\n",
       "    </tr>\n",
       "    <tr>\n",
       "      <th>2</th>\n",
       "      <td>Canada</td>\n",
       "      <td>3.879</td>\n",
       "      <td>2.439</td>\n",
       "      <td>1.874</td>\n",
       "      <td>2.024</td>\n",
       "      <td>2.002</td>\n",
       "      <td>1.998</td>\n",
       "      <td>2.015</td>\n",
       "      <td>-0.021595</td>\n",
       "      <td>0.106828</td>\n",
       "      <td>0.355270</td>\n",
       "    </tr>\n",
       "    <tr>\n",
       "      <th>3</th>\n",
       "      <td>China</td>\n",
       "      <td>0.228</td>\n",
       "      <td>0.422</td>\n",
       "      <td>1.660</td>\n",
       "      <td>2.012</td>\n",
       "      <td>1.959</td>\n",
       "      <td>2.024</td>\n",
       "      <td>2.005</td>\n",
       "      <td>0.188865</td>\n",
       "      <td>0.371671</td>\n",
       "      <td>0.604990</td>\n",
       "    </tr>\n",
       "    <tr>\n",
       "      <th>4</th>\n",
       "      <td>France</td>\n",
       "      <td>5.662</td>\n",
       "      <td>2.313</td>\n",
       "      <td>1.640</td>\n",
       "      <td>1.769</td>\n",
       "      <td>1.752</td>\n",
       "      <td>1.810</td>\n",
       "      <td>1.764</td>\n",
       "      <td>0.208579</td>\n",
       "      <td>0.835852</td>\n",
       "      <td>1.522555</td>\n",
       "    </tr>\n",
       "    <tr>\n",
       "      <th>5</th>\n",
       "      <td>Germany</td>\n",
       "      <td>6.030</td>\n",
       "      <td>2.374</td>\n",
       "      <td>2.028</td>\n",
       "      <td>1.953</td>\n",
       "      <td>1.952</td>\n",
       "      <td>1.952</td>\n",
       "      <td>1.980</td>\n",
       "      <td>-0.172502</td>\n",
       "      <td>0.074392</td>\n",
       "      <td>0.402465</td>\n",
       "    </tr>\n",
       "    <tr>\n",
       "      <th>6</th>\n",
       "      <td>India</td>\n",
       "      <td>5.361</td>\n",
       "      <td>4.374</td>\n",
       "      <td>4.097</td>\n",
       "      <td>4.092</td>\n",
       "      <td>4.000</td>\n",
       "      <td>4.000</td>\n",
       "      <td>4.000</td>\n",
       "      <td>-2.156642</td>\n",
       "      <td>-5.822060</td>\n",
       "      <td>-9.173061</td>\n",
       "    </tr>\n",
       "    <tr>\n",
       "      <th>7</th>\n",
       "      <td>Indonesia</td>\n",
       "      <td>3.713</td>\n",
       "      <td>2.484</td>\n",
       "      <td>2.509</td>\n",
       "      <td>2.529</td>\n",
       "      <td>2.523</td>\n",
       "      <td>2.521</td>\n",
       "      <td>2.521</td>\n",
       "      <td>-0.640919</td>\n",
       "      <td>-1.506387</td>\n",
       "      <td>-2.250494</td>\n",
       "    </tr>\n",
       "    <tr>\n",
       "      <th>8</th>\n",
       "      <td>Japan</td>\n",
       "      <td>3.269</td>\n",
       "      <td>2.233</td>\n",
       "      <td>1.988</td>\n",
       "      <td>1.968</td>\n",
       "      <td>2.001</td>\n",
       "      <td>2.018</td>\n",
       "      <td>2.016</td>\n",
       "      <td>-0.133349</td>\n",
       "      <td>0.050828</td>\n",
       "      <td>0.278485</td>\n",
       "    </tr>\n",
       "    <tr>\n",
       "      <th>9</th>\n",
       "      <td>Korea</td>\n",
       "      <td>3.597</td>\n",
       "      <td>2.520</td>\n",
       "      <td>2.000</td>\n",
       "      <td>2.000</td>\n",
       "      <td>2.000</td>\n",
       "      <td>2.000</td>\n",
       "      <td>2.000</td>\n",
       "      <td>-0.145098</td>\n",
       "      <td>0.008653</td>\n",
       "      <td>0.269629</td>\n",
       "    </tr>\n",
       "    <tr>\n",
       "      <th>10</th>\n",
       "      <td>Mexico</td>\n",
       "      <td>5.525</td>\n",
       "      <td>4.676</td>\n",
       "      <td>3.793</td>\n",
       "      <td>3.016</td>\n",
       "      <td>3.007</td>\n",
       "      <td>3.002</td>\n",
       "      <td>3.001</td>\n",
       "      <td>-1.870068</td>\n",
       "      <td>-3.639598</td>\n",
       "      <td>-5.257753</td>\n",
       "    </tr>\n",
       "    <tr>\n",
       "      <th>11</th>\n",
       "      <td>South Africa</td>\n",
       "      <td>5.900</td>\n",
       "      <td>4.703</td>\n",
       "      <td>4.472</td>\n",
       "      <td>4.500</td>\n",
       "      <td>4.500</td>\n",
       "      <td>4.500</td>\n",
       "      <td>4.500</td>\n",
       "      <td>-2.507849</td>\n",
       "      <td>-6.973731</td>\n",
       "      <td>-11.140228</td>\n",
       "    </tr>\n",
       "    <tr>\n",
       "      <th>12</th>\n",
       "      <td>Taiwan Province of China</td>\n",
       "      <td>2.492</td>\n",
       "      <td>2.088</td>\n",
       "      <td>1.719</td>\n",
       "      <td>1.623</td>\n",
       "      <td>1.585</td>\n",
       "      <td>1.613</td>\n",
       "      <td>1.465</td>\n",
       "      <td>0.130752</td>\n",
       "      <td>1.068173</td>\n",
       "      <td>2.254176</td>\n",
       "    </tr>\n",
       "    <tr>\n",
       "      <th>13</th>\n",
       "      <td>Thailand</td>\n",
       "      <td>1.228</td>\n",
       "      <td>0.535</td>\n",
       "      <td>1.224</td>\n",
       "      <td>1.500</td>\n",
       "      <td>2.000</td>\n",
       "      <td>2.000</td>\n",
       "      <td>2.000</td>\n",
       "      <td>0.620406</td>\n",
       "      <td>1.271766</td>\n",
       "      <td>1.536038</td>\n",
       "    </tr>\n",
       "    <tr>\n",
       "      <th>14</th>\n",
       "      <td>United Kingdom</td>\n",
       "      <td>7.305</td>\n",
       "      <td>2.624</td>\n",
       "      <td>2.074</td>\n",
       "      <td>2.000</td>\n",
       "      <td>2.000</td>\n",
       "      <td>2.000</td>\n",
       "      <td>2.000</td>\n",
       "      <td>-0.217489</td>\n",
       "      <td>-0.063850</td>\n",
       "      <td>0.196937</td>\n",
       "    </tr>\n",
       "    <tr>\n",
       "      <th>15</th>\n",
       "      <td>United States</td>\n",
       "      <td>4.128</td>\n",
       "      <td>2.987</td>\n",
       "      <td>1.852</td>\n",
       "      <td>2.052</td>\n",
       "      <td>2.105</td>\n",
       "      <td>2.123</td>\n",
       "      <td>2.143</td>\n",
       "      <td>NaN</td>\n",
       "      <td>NaN</td>\n",
       "      <td>NaN</td>\n",
       "    </tr>\n",
       "  </tbody>\n",
       "</table>\n",
       "</div>"
      ],
      "text/plain": [
       "                     Country   2023   2024   2025   2026   2027   2028   2029  \\\n",
       "0                  Australia  5.616  3.315  3.270  2.953  2.544  2.467  2.473   \n",
       "1                     Brazil  4.594  4.272  3.586  3.135  2.979  2.965  2.968   \n",
       "2                     Canada  3.879  2.439  1.874  2.024  2.002  1.998  2.015   \n",
       "3                      China  0.228  0.422  1.660  2.012  1.959  2.024  2.005   \n",
       "4                     France  5.662  2.313  1.640  1.769  1.752  1.810  1.764   \n",
       "5                    Germany  6.030  2.374  2.028  1.953  1.952  1.952  1.980   \n",
       "6                      India  5.361  4.374  4.097  4.092  4.000  4.000  4.000   \n",
       "7                  Indonesia  3.713  2.484  2.509  2.529  2.523  2.521  2.521   \n",
       "8                      Japan  3.269  2.233  1.988  1.968  2.001  2.018  2.016   \n",
       "9                      Korea  3.597  2.520  2.000  2.000  2.000  2.000  2.000   \n",
       "10                    Mexico  5.525  4.676  3.793  3.016  3.007  3.002  3.001   \n",
       "11              South Africa  5.900  4.703  4.472  4.500  4.500  4.500  4.500   \n",
       "12  Taiwan Province of China  2.492  2.088  1.719  1.623  1.585  1.613  1.465   \n",
       "13                  Thailand  1.228  0.535  1.224  1.500  2.000  2.000  2.000   \n",
       "14            United Kingdom  7.305  2.624  2.074  2.000  2.000  2.000  2.000   \n",
       "15             United States  4.128  2.987  1.852  2.052  2.105  2.123  2.143   \n",
       "\n",
       "    1-year_FX_Return  3-year_FX_Return  5-year_FX_Return  \n",
       "0          -1.373100         -2.654775         -3.294014  \n",
       "1          -1.673971         -3.532220         -5.087687  \n",
       "2          -0.021595          0.106828          0.355270  \n",
       "3           0.188865          0.371671          0.604990  \n",
       "4           0.208579          0.835852          1.522555  \n",
       "5          -0.172502          0.074392          0.402465  \n",
       "6          -2.156642         -5.822060         -9.173061  \n",
       "7          -0.640919         -1.506387         -2.250494  \n",
       "8          -0.133349          0.050828          0.278485  \n",
       "9          -0.145098          0.008653          0.269629  \n",
       "10         -1.870068         -3.639598         -5.257753  \n",
       "11         -2.507849         -6.973731        -11.140228  \n",
       "12          0.130752          1.068173          2.254176  \n",
       "13          0.620406          1.271766          1.536038  \n",
       "14         -0.217489         -0.063850          0.196937  \n",
       "15               NaN               NaN               NaN  "
      ]
     },
     "execution_count": 10,
     "metadata": {},
     "output_type": "execute_result"
    }
   ],
   "source": [
    "file_path = \"D:/UMich/612+614/614/WEOOct2024all.xlsx\"  # Update this with the actual file path\n",
    "sheet_name = \"WEOOct2024all\"  # Update if necessary\n",
    "\n",
    "# Load the Excel data\n",
    "df_FX = pd.read_excel(file_path, sheet_name=sheet_name)\n",
    "# Step 2: Separate US inflation rates (domestic) and remove the US row\n",
    "us_inflation = df_FX[df_FX['Country'] == \"United States\"].iloc[0, 1:].to_dict()\n",
    "other_inflation= df_FX[df_FX['Country'] != \"United States\"]\n",
    "\n",
    "# Step 3: Function to calculate currency return\n",
    "def calculate_fx_return(row, years, us_inflation):\n",
    "    domestic_compound = 1\n",
    "    foreign_compound = 1\n",
    "    for year in years:\n",
    "        domestic_compound *= (1 + us_inflation[year] / 100)\n",
    "        foreign_compound *= (1 + row[year] / 100)\n",
    "    return (domestic_compound / foreign_compound - 1) * 100\n",
    "\n",
    "horizons = {\n",
    "    \"1-year\": [2025],\n",
    "    \"3-year\": [2025, 2026, 2027],\n",
    "    \"5-year\": [2025, 2026, 2027, 2028, 2029]\n",
    "}\n",
    "\n",
    "# Calculate FX returns for each horizon\n",
    "for horizon, years in horizons.items():\n",
    "    df_FX[f\"{horizon}_FX_Return\"] = other_inflation.apply(lambda row: calculate_fx_return(row, years, us_inflation), axis=1)\n",
    "\n",
    "df_FX.to_csv(\"return_currency_compounded.csv\")\n",
    "\n",
    "df_FX"
   ]
  },
  {
   "cell_type": "code",
   "execution_count": null,
   "id": "b120b08b",
   "metadata": {},
   "outputs": [],
   "source": []
  }
 ],
 "metadata": {
  "kernelspec": {
   "display_name": "Python 3 (ipykernel)",
   "language": "python",
   "name": "python3"
  },
  "language_info": {
   "codemirror_mode": {
    "name": "ipython",
    "version": 3
   },
   "file_extension": ".py",
   "mimetype": "text/x-python",
   "name": "python",
   "nbconvert_exporter": "python",
   "pygments_lexer": "ipython3",
   "version": "3.9.7"
  }
 },
 "nbformat": 4,
 "nbformat_minor": 5
}
